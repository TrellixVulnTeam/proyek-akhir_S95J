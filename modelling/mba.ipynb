{
 "cells": [
  {
   "cell_type": "code",
   "execution_count": 2,
   "id": "a9dd5b28",
   "metadata": {},
   "outputs": [],
   "source": [
    "import pandas as pd\n",
    "from sklearn.feature_extraction.text import CountVectorizer"
   ]
  },
  {
   "cell_type": "code",
   "execution_count": 3,
   "id": "7c28c33f",
   "metadata": {},
   "outputs": [],
   "source": [
    "import nltk"
   ]
  },
  {
   "cell_type": "markdown",
   "id": "0a555c17",
   "metadata": {},
   "source": [
    "### Data Acqutition"
   ]
  },
  {
   "cell_type": "code",
   "execution_count": 4,
   "id": "682100a1",
   "metadata": {},
   "outputs": [],
   "source": [
    "from nltk.tokenize import word_tokenize"
   ]
  },
  {
   "cell_type": "code",
   "execution_count": 5,
   "id": "2ebf64be",
   "metadata": {},
   "outputs": [],
   "source": [
    "dataframe = pd.read_csv(\"dataset/movie.csv\")"
   ]
  },
  {
   "cell_type": "code",
   "execution_count": 6,
   "id": "c0a3d049",
   "metadata": {},
   "outputs": [
    {
     "data": {
      "text/html": [
       "<div>\n",
       "<style scoped>\n",
       "    .dataframe tbody tr th:only-of-type {\n",
       "        vertical-align: middle;\n",
       "    }\n",
       "\n",
       "    .dataframe tbody tr th {\n",
       "        vertical-align: top;\n",
       "    }\n",
       "\n",
       "    .dataframe thead th {\n",
       "        text-align: right;\n",
       "    }\n",
       "</style>\n",
       "<table border=\"1\" class=\"dataframe\">\n",
       "  <thead>\n",
       "    <tr style=\"text-align: right;\">\n",
       "      <th></th>\n",
       "      <th>title</th>\n",
       "      <th>genres</th>\n",
       "      <th>cast</th>\n",
       "      <th>keywords</th>\n",
       "      <th>director</th>\n",
       "      <th>metadata</th>\n",
       "    </tr>\n",
       "  </thead>\n",
       "  <tbody>\n",
       "    <tr>\n",
       "      <th>0</th>\n",
       "      <td>Toy Story</td>\n",
       "      <td>animation comedy family</td>\n",
       "      <td>tom_hanks tim_allen don_rickles</td>\n",
       "      <td>jealousy toy boy</td>\n",
       "      <td>john_lasseter</td>\n",
       "      <td>animation comedy family tom_hanks tim_allen do...</td>\n",
       "    </tr>\n",
       "    <tr>\n",
       "      <th>1</th>\n",
       "      <td>Jumanji</td>\n",
       "      <td>adventure fantasy family</td>\n",
       "      <td>robin_williams jonathan_hyde kirsten_dunst</td>\n",
       "      <td>board_game disappearance based_on_children's_book</td>\n",
       "      <td>joe_johnston</td>\n",
       "      <td>adventure fantasy family robin_williams jonath...</td>\n",
       "    </tr>\n",
       "    <tr>\n",
       "      <th>2</th>\n",
       "      <td>Grumpier Old Men</td>\n",
       "      <td>romance comedy</td>\n",
       "      <td>walter_matthau jack_lemmon ann-margret</td>\n",
       "      <td>fishing best_friend duringcreditsstinger</td>\n",
       "      <td>howard_deutch</td>\n",
       "      <td>romance comedy walter_matthau jack_lemmon ann-...</td>\n",
       "    </tr>\n",
       "    <tr>\n",
       "      <th>3</th>\n",
       "      <td>Waiting to Exhale</td>\n",
       "      <td>comedy drama romance</td>\n",
       "      <td>whitney_houston angela_bassett loretta_devine</td>\n",
       "      <td>based_on_novel interracial_relationship single...</td>\n",
       "      <td>forest_whitaker</td>\n",
       "      <td>comedy drama romance whitney_houston angela_ba...</td>\n",
       "    </tr>\n",
       "    <tr>\n",
       "      <th>4</th>\n",
       "      <td>Father of the Bride Part II</td>\n",
       "      <td>comedy</td>\n",
       "      <td>steve_martin diane_keaton martin_short</td>\n",
       "      <td>baby midlife_crisis confidence</td>\n",
       "      <td>charles_shyer</td>\n",
       "      <td>comedy steve_martin diane_keaton martin_short ...</td>\n",
       "    </tr>\n",
       "  </tbody>\n",
       "</table>\n",
       "</div>"
      ],
      "text/plain": [
       "                         title                    genres  \\\n",
       "0                    Toy Story   animation comedy family   \n",
       "1                      Jumanji  adventure fantasy family   \n",
       "2             Grumpier Old Men            romance comedy   \n",
       "3            Waiting to Exhale      comedy drama romance   \n",
       "4  Father of the Bride Part II                    comedy   \n",
       "\n",
       "                                            cast  \\\n",
       "0                tom_hanks tim_allen don_rickles   \n",
       "1     robin_williams jonathan_hyde kirsten_dunst   \n",
       "2         walter_matthau jack_lemmon ann-margret   \n",
       "3  whitney_houston angela_bassett loretta_devine   \n",
       "4         steve_martin diane_keaton martin_short   \n",
       "\n",
       "                                            keywords         director  \\\n",
       "0                                   jealousy toy boy    john_lasseter   \n",
       "1  board_game disappearance based_on_children's_book     joe_johnston   \n",
       "2           fishing best_friend duringcreditsstinger    howard_deutch   \n",
       "3  based_on_novel interracial_relationship single...  forest_whitaker   \n",
       "4                     baby midlife_crisis confidence    charles_shyer   \n",
       "\n",
       "                                            metadata  \n",
       "0  animation comedy family tom_hanks tim_allen do...  \n",
       "1  adventure fantasy family robin_williams jonath...  \n",
       "2  romance comedy walter_matthau jack_lemmon ann-...  \n",
       "3  comedy drama romance whitney_houston angela_ba...  \n",
       "4  comedy steve_martin diane_keaton martin_short ...  "
      ]
     },
     "execution_count": 6,
     "metadata": {},
     "output_type": "execute_result"
    }
   ],
   "source": [
    "dataframe.head()"
   ]
  },
  {
   "cell_type": "code",
   "execution_count": 7,
   "id": "193a39e6",
   "metadata": {},
   "outputs": [
    {
     "data": {
      "text/html": [
       "<div>\n",
       "<style scoped>\n",
       "    .dataframe tbody tr th:only-of-type {\n",
       "        vertical-align: middle;\n",
       "    }\n",
       "\n",
       "    .dataframe tbody tr th {\n",
       "        vertical-align: top;\n",
       "    }\n",
       "\n",
       "    .dataframe thead th {\n",
       "        text-align: right;\n",
       "    }\n",
       "</style>\n",
       "<table border=\"1\" class=\"dataframe\">\n",
       "  <thead>\n",
       "    <tr style=\"text-align: right;\">\n",
       "      <th></th>\n",
       "      <th>title</th>\n",
       "      <th>genres</th>\n",
       "      <th>cast</th>\n",
       "      <th>keywords</th>\n",
       "      <th>director</th>\n",
       "      <th>metadata</th>\n",
       "    </tr>\n",
       "  </thead>\n",
       "  <tbody>\n",
       "    <tr>\n",
       "      <th>0</th>\n",
       "      <td>Toy Story</td>\n",
       "      <td>animation comedy family</td>\n",
       "      <td>tom_hanks tim_allen don_rickles</td>\n",
       "      <td>jealousy toy boy</td>\n",
       "      <td>john_lasseter</td>\n",
       "      <td>animation comedy family tom_hanks tim_allen do...</td>\n",
       "    </tr>\n",
       "    <tr>\n",
       "      <th>1</th>\n",
       "      <td>Jumanji</td>\n",
       "      <td>adventure fantasy family</td>\n",
       "      <td>robin_williams jonathan_hyde kirsten_dunst</td>\n",
       "      <td>board_game disappearance based_on_children's_book</td>\n",
       "      <td>joe_johnston</td>\n",
       "      <td>adventure fantasy family robin_williams jonath...</td>\n",
       "    </tr>\n",
       "    <tr>\n",
       "      <th>2</th>\n",
       "      <td>Grumpier Old Men</td>\n",
       "      <td>romance comedy</td>\n",
       "      <td>walter_matthau jack_lemmon ann-margret</td>\n",
       "      <td>fishing best_friend duringcreditsstinger</td>\n",
       "      <td>howard_deutch</td>\n",
       "      <td>romance comedy walter_matthau jack_lemmon ann-...</td>\n",
       "    </tr>\n",
       "    <tr>\n",
       "      <th>3</th>\n",
       "      <td>Waiting to Exhale</td>\n",
       "      <td>comedy drama romance</td>\n",
       "      <td>whitney_houston angela_bassett loretta_devine</td>\n",
       "      <td>based_on_novel interracial_relationship single...</td>\n",
       "      <td>forest_whitaker</td>\n",
       "      <td>comedy drama romance whitney_houston angela_ba...</td>\n",
       "    </tr>\n",
       "    <tr>\n",
       "      <th>4</th>\n",
       "      <td>Father of the Bride Part II</td>\n",
       "      <td>comedy</td>\n",
       "      <td>steve_martin diane_keaton martin_short</td>\n",
       "      <td>baby midlife_crisis confidence</td>\n",
       "      <td>charles_shyer</td>\n",
       "      <td>comedy steve_martin diane_keaton martin_short ...</td>\n",
       "    </tr>\n",
       "    <tr>\n",
       "      <th>...</th>\n",
       "      <td>...</td>\n",
       "      <td>...</td>\n",
       "      <td>...</td>\n",
       "      <td>...</td>\n",
       "      <td>...</td>\n",
       "      <td>...</td>\n",
       "    </tr>\n",
       "    <tr>\n",
       "      <th>42272</th>\n",
       "      <td>Caged Heat 3000</td>\n",
       "      <td>science_fiction</td>\n",
       "      <td>jimmy_bennett peter_cullen jim_cummings</td>\n",
       "      <td>NaN</td>\n",
       "      <td>saul_blinkoff</td>\n",
       "      <td>science_fiction jimmy_bennett peter_cullen jim...</td>\n",
       "    </tr>\n",
       "    <tr>\n",
       "      <th>42273</th>\n",
       "      <td>Subdue</td>\n",
       "      <td>drama family</td>\n",
       "      <td>jeanne_d'alcy georges_méliès</td>\n",
       "      <td>NaN</td>\n",
       "      <td>georges_méliès</td>\n",
       "      <td>drama family jeanne_d'alcy georges_méliès  geo...</td>\n",
       "    </tr>\n",
       "    <tr>\n",
       "      <th>42274</th>\n",
       "      <td>Century of Birthing</td>\n",
       "      <td>drama</td>\n",
       "      <td>NaN</td>\n",
       "      <td>NaN</td>\n",
       "      <td>robert_gardner</td>\n",
       "      <td>drama   robert_gardner</td>\n",
       "    </tr>\n",
       "    <tr>\n",
       "      <th>42275</th>\n",
       "      <td>Satan Triumphant</td>\n",
       "      <td>NaN</td>\n",
       "      <td>markie_adams roberto_aguire tina_arning</td>\n",
       "      <td>woman_director</td>\n",
       "      <td>shanra_j._kehl</td>\n",
       "      <td>markie_adams roberto_aguire tina_arning woman...</td>\n",
       "    </tr>\n",
       "    <tr>\n",
       "      <th>42276</th>\n",
       "      <td>Queerama</td>\n",
       "      <td>NaN</td>\n",
       "      <td>giulio_brogi renato_cestiè vito_cipolla</td>\n",
       "      <td>NaN</td>\n",
       "      <td>paolo_taviani</td>\n",
       "      <td>giulio_brogi renato_cestiè vito_cipolla  paol...</td>\n",
       "    </tr>\n",
       "  </tbody>\n",
       "</table>\n",
       "<p>42277 rows × 6 columns</p>\n",
       "</div>"
      ],
      "text/plain": [
       "                             title                    genres  \\\n",
       "0                        Toy Story   animation comedy family   \n",
       "1                          Jumanji  adventure fantasy family   \n",
       "2                 Grumpier Old Men            romance comedy   \n",
       "3                Waiting to Exhale      comedy drama romance   \n",
       "4      Father of the Bride Part II                    comedy   \n",
       "...                            ...                       ...   \n",
       "42272              Caged Heat 3000           science_fiction   \n",
       "42273                       Subdue              drama family   \n",
       "42274          Century of Birthing                     drama   \n",
       "42275             Satan Triumphant                       NaN   \n",
       "42276                     Queerama                       NaN   \n",
       "\n",
       "                                                cast  \\\n",
       "0                    tom_hanks tim_allen don_rickles   \n",
       "1         robin_williams jonathan_hyde kirsten_dunst   \n",
       "2             walter_matthau jack_lemmon ann-margret   \n",
       "3      whitney_houston angela_bassett loretta_devine   \n",
       "4             steve_martin diane_keaton martin_short   \n",
       "...                                              ...   \n",
       "42272        jimmy_bennett peter_cullen jim_cummings   \n",
       "42273                   jeanne_d'alcy georges_méliès   \n",
       "42274                                            NaN   \n",
       "42275        markie_adams roberto_aguire tina_arning   \n",
       "42276        giulio_brogi renato_cestiè vito_cipolla   \n",
       "\n",
       "                                                keywords         director  \\\n",
       "0                                       jealousy toy boy    john_lasseter   \n",
       "1      board_game disappearance based_on_children's_book     joe_johnston   \n",
       "2               fishing best_friend duringcreditsstinger    howard_deutch   \n",
       "3      based_on_novel interracial_relationship single...  forest_whitaker   \n",
       "4                         baby midlife_crisis confidence    charles_shyer   \n",
       "...                                                  ...              ...   \n",
       "42272                                                NaN    saul_blinkoff   \n",
       "42273                                                NaN   georges_méliès   \n",
       "42274                                                NaN   robert_gardner   \n",
       "42275                                     woman_director   shanra_j._kehl   \n",
       "42276                                                NaN    paolo_taviani   \n",
       "\n",
       "                                                metadata  \n",
       "0      animation comedy family tom_hanks tim_allen do...  \n",
       "1      adventure fantasy family robin_williams jonath...  \n",
       "2      romance comedy walter_matthau jack_lemmon ann-...  \n",
       "3      comedy drama romance whitney_houston angela_ba...  \n",
       "4      comedy steve_martin diane_keaton martin_short ...  \n",
       "...                                                  ...  \n",
       "42272  science_fiction jimmy_bennett peter_cullen jim...  \n",
       "42273  drama family jeanne_d'alcy georges_méliès  geo...  \n",
       "42274                             drama   robert_gardner  \n",
       "42275   markie_adams roberto_aguire tina_arning woman...  \n",
       "42276   giulio_brogi renato_cestiè vito_cipolla  paol...  \n",
       "\n",
       "[42277 rows x 6 columns]"
      ]
     },
     "execution_count": 7,
     "metadata": {},
     "output_type": "execute_result"
    }
   ],
   "source": [
    "dataframe"
   ]
  },
  {
   "cell_type": "code",
   "execution_count": 8,
   "id": "5af5d11c",
   "metadata": {},
   "outputs": [],
   "source": [
    "dataframe[\"metadata\"]=dataframe[\"title\"].str.cat(dataframe[\"metadata\"], sep=\", \").to_frame()\n",
    "dataframe = dataframe[[\"title\", \"metadata\"]][0:500]"
   ]
  },
  {
   "cell_type": "code",
   "execution_count": 9,
   "id": "1be32e3b",
   "metadata": {},
   "outputs": [
    {
     "name": "stdout",
     "output_type": "stream",
     "text": [
      "<class 'pandas.core.frame.DataFrame'>\n",
      "RangeIndex: 500 entries, 0 to 499\n",
      "Data columns (total 2 columns):\n",
      " #   Column    Non-Null Count  Dtype \n",
      "---  ------    --------------  ----- \n",
      " 0   title     500 non-null    object\n",
      " 1   metadata  500 non-null    object\n",
      "dtypes: object(2)\n",
      "memory usage: 7.9+ KB\n"
     ]
    }
   ],
   "source": [
    "dataframe.info()"
   ]
  },
  {
   "cell_type": "markdown",
   "id": "51f209e1",
   "metadata": {},
   "source": [
    "### Data Preprocessing"
   ]
  },
  {
   "cell_type": "code",
   "execution_count": 10,
   "id": "4e4880a8",
   "metadata": {},
   "outputs": [],
   "source": [
    "import re\n",
    "\n",
    "def text_preprocessing(text):\n",
    "    text = str(text).lower()\n",
    "    text = re.sub(r'https?://\\S+|www\\.\\S+', '', text)\n",
    "    text = re.sub(r'[-+]?[0-9]+', '', text)\n",
    "    text = re.sub(r'[^\\w\\s]','', text) \n",
    "    text = text.strip()\n",
    "    return text"
   ]
  },
  {
   "cell_type": "code",
   "execution_count": 11,
   "id": "800c1822",
   "metadata": {},
   "outputs": [],
   "source": [
    "dataframe[\"metadata\"] = dataframe[\"metadata\"].apply(text_preprocessing)\n",
    "dataframe[\"title\"] = dataframe[\"title\"].apply(text_preprocessing)"
   ]
  },
  {
   "cell_type": "code",
   "execution_count": 26,
   "id": "05d425ca",
   "metadata": {},
   "outputs": [
    {
     "data": {
      "text/html": [
       "<div>\n",
       "<style scoped>\n",
       "    .dataframe tbody tr th:only-of-type {\n",
       "        vertical-align: middle;\n",
       "    }\n",
       "\n",
       "    .dataframe tbody tr th {\n",
       "        vertical-align: top;\n",
       "    }\n",
       "\n",
       "    .dataframe thead th {\n",
       "        text-align: right;\n",
       "    }\n",
       "</style>\n",
       "<table border=\"1\" class=\"dataframe\">\n",
       "  <thead>\n",
       "    <tr style=\"text-align: right;\">\n",
       "      <th></th>\n",
       "      <th>title</th>\n",
       "      <th>metadata</th>\n",
       "    </tr>\n",
       "  </thead>\n",
       "  <tbody>\n",
       "    <tr>\n",
       "      <th>0</th>\n",
       "      <td>toy story</td>\n",
       "      <td>toy story animation comedy family tom_hanks ti...</td>\n",
       "    </tr>\n",
       "    <tr>\n",
       "      <th>1</th>\n",
       "      <td>jumanji</td>\n",
       "      <td>jumanji adventure fantasy family robin_william...</td>\n",
       "    </tr>\n",
       "    <tr>\n",
       "      <th>2</th>\n",
       "      <td>grumpier old men</td>\n",
       "      <td>grumpier old men romance comedy walter_matthau...</td>\n",
       "    </tr>\n",
       "    <tr>\n",
       "      <th>3</th>\n",
       "      <td>waiting to exhale</td>\n",
       "      <td>waiting to exhale comedy drama romance whitney...</td>\n",
       "    </tr>\n",
       "    <tr>\n",
       "      <th>4</th>\n",
       "      <td>father of the bride part ii</td>\n",
       "      <td>father of the bride part ii comedy steve_marti...</td>\n",
       "    </tr>\n",
       "    <tr>\n",
       "      <th>...</th>\n",
       "      <td>...</td>\n",
       "      <td>...</td>\n",
       "    </tr>\n",
       "    <tr>\n",
       "      <th>495</th>\n",
       "      <td>mrs doubtfire</td>\n",
       "      <td>mrs doubtfire comedy drama family robin_willia...</td>\n",
       "    </tr>\n",
       "    <tr>\n",
       "      <th>496</th>\n",
       "      <td>naked</td>\n",
       "      <td>naked comedy drama david_thewlis lesley_sharp ...</td>\n",
       "    </tr>\n",
       "    <tr>\n",
       "      <th>497</th>\n",
       "      <td>the next karate kid</td>\n",
       "      <td>the next karate kid adventure pat_morita hilar...</td>\n",
       "    </tr>\n",
       "    <tr>\n",
       "      <th>498</th>\n",
       "      <td>the new age</td>\n",
       "      <td>the new age comedy drama peter_weller judy_dav...</td>\n",
       "    </tr>\n",
       "    <tr>\n",
       "      <th>499</th>\n",
       "      <td>no escape</td>\n",
       "      <td>no escape action drama science_fiction ray_lio...</td>\n",
       "    </tr>\n",
       "  </tbody>\n",
       "</table>\n",
       "<p>500 rows × 2 columns</p>\n",
       "</div>"
      ],
      "text/plain": [
       "                           title  \\\n",
       "0                      toy story   \n",
       "1                        jumanji   \n",
       "2               grumpier old men   \n",
       "3              waiting to exhale   \n",
       "4    father of the bride part ii   \n",
       "..                           ...   \n",
       "495                mrs doubtfire   \n",
       "496                        naked   \n",
       "497          the next karate kid   \n",
       "498                  the new age   \n",
       "499                    no escape   \n",
       "\n",
       "                                              metadata  \n",
       "0    toy story animation comedy family tom_hanks ti...  \n",
       "1    jumanji adventure fantasy family robin_william...  \n",
       "2    grumpier old men romance comedy walter_matthau...  \n",
       "3    waiting to exhale comedy drama romance whitney...  \n",
       "4    father of the bride part ii comedy steve_marti...  \n",
       "..                                                 ...  \n",
       "495  mrs doubtfire comedy drama family robin_willia...  \n",
       "496  naked comedy drama david_thewlis lesley_sharp ...  \n",
       "497  the next karate kid adventure pat_morita hilar...  \n",
       "498  the new age comedy drama peter_weller judy_dav...  \n",
       "499  no escape action drama science_fiction ray_lio...  \n",
       "\n",
       "[500 rows x 2 columns]"
      ]
     },
     "execution_count": 26,
     "metadata": {},
     "output_type": "execute_result"
    }
   ],
   "source": [
    "dataframe"
   ]
  },
  {
   "cell_type": "code",
   "execution_count": 13,
   "id": "aae5f1e3",
   "metadata": {},
   "outputs": [],
   "source": [
    "dataframe.dropna(inplace=True)"
   ]
  },
  {
   "cell_type": "code",
   "execution_count": 14,
   "id": "b04cf509",
   "metadata": {},
   "outputs": [
    {
     "data": {
      "text/plain": [
       "title       0\n",
       "metadata    0\n",
       "dtype: int64"
      ]
     },
     "execution_count": 14,
     "metadata": {},
     "output_type": "execute_result"
    }
   ],
   "source": [
    "dataframe.isna().sum()"
   ]
  },
  {
   "cell_type": "code",
   "execution_count": 15,
   "id": "f2bff8d6",
   "metadata": {},
   "outputs": [
    {
     "data": {
      "text/plain": [
       "'toy story'"
      ]
     },
     "execution_count": 15,
     "metadata": {},
     "output_type": "execute_result"
    }
   ],
   "source": [
    "dataframe[\"title\"][0]"
   ]
  },
  {
   "cell_type": "code",
   "execution_count": 19,
   "id": "ea6ac275",
   "metadata": {},
   "outputs": [],
   "source": [
    "from sklearn.metrics.pairwise import cosine_similarity"
   ]
  },
  {
   "cell_type": "markdown",
   "id": "4b1261d7",
   "metadata": {},
   "source": [
    "### Modelling Content Based Filtering"
   ]
  },
  {
   "cell_type": "code",
   "execution_count": 42,
   "id": "50ac4cfd",
   "metadata": {},
   "outputs": [],
   "source": [
    "cv = CountVectorizer(max_features=10, stop_words='english')"
   ]
  },
  {
   "cell_type": "code",
   "execution_count": 43,
   "id": "af2a977f",
   "metadata": {},
   "outputs": [],
   "source": [
    "vektors = cv.fit_transform(dataframe[\"metadata\"]).toarray()"
   ]
  },
  {
   "cell_type": "code",
   "execution_count": 44,
   "id": "d21ea3fa",
   "metadata": {},
   "outputs": [
    {
     "data": {
      "text/plain": [
       "array([[0, 0, 1, ..., 0, 0, 0],\n",
       "       [0, 1, 0, ..., 0, 0, 0],\n",
       "       [0, 0, 1, ..., 1, 0, 0],\n",
       "       ...,\n",
       "       [0, 1, 0, ..., 0, 0, 0],\n",
       "       [0, 0, 1, ..., 0, 0, 0],\n",
       "       [1, 0, 0, ..., 0, 1, 0]], dtype=int64)"
      ]
     },
     "execution_count": 44,
     "metadata": {},
     "output_type": "execute_result"
    }
   ],
   "source": [
    "vektors"
   ]
  },
  {
   "cell_type": "code",
   "execution_count": 45,
   "id": "b782bef7",
   "metadata": {},
   "outputs": [
    {
     "data": {
      "text/plain": [
       "array([0, 0, 1, 0, 0, 1, 0, 0, 0, 0], dtype=int64)"
      ]
     },
     "execution_count": 45,
     "metadata": {},
     "output_type": "execute_result"
    }
   ],
   "source": [
    "vektors[0]"
   ]
  },
  {
   "cell_type": "code",
   "execution_count": 46,
   "id": "f8417df7",
   "metadata": {},
   "outputs": [
    {
     "name": "stderr",
     "output_type": "stream",
     "text": [
      "C:\\Users\\rahmad\\miniconda3\\lib\\site-packages\\sklearn\\utils\\deprecation.py:87: FutureWarning: Function get_feature_names is deprecated; get_feature_names is deprecated in 1.0 and will be removed in 1.2. Please use get_feature_names_out instead.\n",
      "  warnings.warn(msg, category=FutureWarning)\n"
     ]
    },
    {
     "data": {
      "text/plain": [
       "['action',\n",
       " 'adventure',\n",
       " 'comedy',\n",
       " 'crime',\n",
       " 'drama',\n",
       " 'family',\n",
       " 'fantasy',\n",
       " 'romance',\n",
       " 'science_fiction',\n",
       " 'thriller']"
      ]
     },
     "execution_count": 46,
     "metadata": {},
     "output_type": "execute_result"
    }
   ],
   "source": [
    "cv.get_feature_names()"
   ]
  },
  {
   "cell_type": "code",
   "execution_count": 47,
   "id": "17efaf61",
   "metadata": {},
   "outputs": [],
   "source": [
    "from sklearn.metrics.pairwise import cosine_similarity"
   ]
  },
  {
   "cell_type": "code",
   "execution_count": 48,
   "id": "9c07a0a5",
   "metadata": {},
   "outputs": [],
   "source": [
    "similiaryty = cosine_similarity(vektors)"
   ]
  },
  {
   "cell_type": "code",
   "execution_count": 61,
   "id": "1c83db36",
   "metadata": {},
   "outputs": [],
   "source": [
    "def recommended(movie):\n",
    "    movie_index = dataframe[dataframe[\"title\"] == movie].index[0]\n",
    "    distances = similiaryty[movie_index]\n",
    "    movies_list = sorted(list(enumerate(distances)), reverse=True, key=lambda x:x[1])[1:6]\n",
    "    \n",
    "    for i in movies_list:\n",
    "        print(dataframe.iloc[i[0]].title)"
   ]
  },
  {
   "cell_type": "code",
   "execution_count": 62,
   "id": "07cd15c1",
   "metadata": {},
   "outputs": [
    {
     "name": "stdout",
     "output_type": "stream",
     "text": [
      "big bully\n",
      "houseguest\n",
      "rentakid\n",
      "the air up there\n",
      "life with mikey\n"
     ]
    }
   ],
   "source": [
    "recommended(\"toy story\")"
   ]
  }
 ],
 "metadata": {
  "interpreter": {
   "hash": "ce2064acf4ef97403f217f57760e596adda0e83a065119a668ae553de3dd133f"
  },
  "kernelspec": {
   "display_name": "Python 3 (ipykernel)",
   "language": "python",
   "name": "python3"
  },
  "language_info": {
   "codemirror_mode": {
    "name": "ipython",
    "version": 3
   },
   "file_extension": ".py",
   "mimetype": "text/x-python",
   "name": "python",
   "nbconvert_exporter": "python",
   "pygments_lexer": "ipython3",
   "version": "3.9.7"
  }
 },
 "nbformat": 4,
 "nbformat_minor": 5
}
